{
 "cells": [
  {
   "cell_type": "markdown",
   "id": "2dfd15bb-c2f2-4dc4-a594-abdaf0e6e4c6",
   "metadata": {},
   "source": [
    "# This is the second template\n",
    "\n",
    "Replace this with actual notebook you want to use for compiling"
   ]
  },
  {
   "cell_type": "code",
   "execution_count": null,
   "id": "ac673dce-93b3-41a3-8836-b896ebfe7688",
   "metadata": {},
   "outputs": [],
   "source": [
    "print('asdf')"
   ]
  }
 ],
 "metadata": {
  "kernelspec": {
   "display_name": "watspeed_data_gr_proj",
   "language": "python",
   "name": "watspeed_data_gr_proj"
  },
  "language_info": {
   "codemirror_mode": {
    "name": "ipython",
    "version": 3
   },
   "file_extension": ".py",
   "mimetype": "text/x-python",
   "name": "python",
   "nbconvert_exporter": "python",
   "pygments_lexer": "ipython3",
   "version": "3.12.11"
  }
 },
 "nbformat": 4,
 "nbformat_minor": 5
}
